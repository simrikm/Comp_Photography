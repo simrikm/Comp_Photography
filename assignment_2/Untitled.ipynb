{
 "cells": [
  {
   "cell_type": "code",
   "execution_count": 38,
   "metadata": {},
   "outputs": [
    {
     "name": "stdout",
     "output_type": "stream",
     "text": [
      "(2, 3)\n",
      "[[1 1 2 0 1 2]\n",
      " [0 1 1 2 2 2]]\n",
      "[[0 1 1 2 2 2]\n",
      " [1 1 2 0 1 2]]\n",
      "[[1 1 2 0 1 2]\n",
      " [0 1 1 2 2 2]]\n"
     ]
    }
   ],
   "source": [
    "import numpy as np\n",
    "\n",
    "X=np.array([[4,1,4],[4,2,3]])\n",
    "print (X.shape)\n",
    "A=np.array([2,2,2])\n",
    "#A = vstack((A, X[X[:,0] < 3]))\n",
    "\n",
    "X=np.vstack((X,A))\n",
    "\n",
    "c=np.where(X<4)\n",
    "a=np.array(np.where(X<4))\n",
    "d=np.vstack((c[1],c[0]))\n",
    "#d=np.divide(X,c)\n",
    "#print (d[0,0])\n",
    "print(d)\n",
    "print (a)\n",
    "a[[0,1]]=a[[1,0]]\n",
    "print(a)"
   ]
  },
  {
   "cell_type": "code",
   "execution_count": null,
   "metadata": {},
   "outputs": [],
   "source": []
  }
 ],
 "metadata": {
  "kernelspec": {
   "display_name": "Python 3",
   "language": "python",
   "name": "python3"
  },
  "language_info": {
   "codemirror_mode": {
    "name": "ipython",
    "version": 3
   },
   "file_extension": ".py",
   "mimetype": "text/x-python",
   "name": "python",
   "nbconvert_exporter": "python",
   "pygments_lexer": "ipython3",
   "version": "3.6.8"
  }
 },
 "nbformat": 4,
 "nbformat_minor": 2
}
